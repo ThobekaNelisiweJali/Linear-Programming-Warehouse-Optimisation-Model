{
  "cells": [
    {
      "cell_type": "code",
      "source": [
        "# ===========================\n",
        "# STEP 1: Upload Files in Colab\n",
        "# ===========================\n",
        "from google.colab import files\n",
        "import pandas as pd\n",
        "\n",
        "uploaded = files.upload()  # Select all zonix_*.csv files here"
      ],
      "metadata": {
        "colab": {
          "base_uri": "https://localhost:8080/",
          "height": 385
        },
        "id": "mUQfXqsJeObf",
        "outputId": "b83d367e-12dd-413d-803d-66da5bc753a5"
      },
      "execution_count": null,
      "outputs": [
        {
          "output_type": "display_data",
          "data": {
            "text/plain": [
              "<IPython.core.display.HTML object>"
            ],
            "text/html": [
              "\n",
              "     <input type=\"file\" id=\"files-e52094dd-777c-468f-8d9e-9e3e5f789ed0\" name=\"files[]\" multiple disabled\n",
              "        style=\"border:none\" />\n",
              "     <output id=\"result-e52094dd-777c-468f-8d9e-9e3e5f789ed0\">\n",
              "      Upload widget is only available when the cell has been executed in the\n",
              "      current browser session. Please rerun this cell to enable.\n",
              "      </output>\n",
              "      <script>// Copyright 2017 Google LLC\n",
              "//\n",
              "// Licensed under the Apache License, Version 2.0 (the \"License\");\n",
              "// you may not use this file except in compliance with the License.\n",
              "// You may obtain a copy of the License at\n",
              "//\n",
              "//      http://www.apache.org/licenses/LICENSE-2.0\n",
              "//\n",
              "// Unless required by applicable law or agreed to in writing, software\n",
              "// distributed under the License is distributed on an \"AS IS\" BASIS,\n",
              "// WITHOUT WARRANTIES OR CONDITIONS OF ANY KIND, either express or implied.\n",
              "// See the License for the specific language governing permissions and\n",
              "// limitations under the License.\n",
              "\n",
              "/**\n",
              " * @fileoverview Helpers for google.colab Python module.\n",
              " */\n",
              "(function(scope) {\n",
              "function span(text, styleAttributes = {}) {\n",
              "  const element = document.createElement('span');\n",
              "  element.textContent = text;\n",
              "  for (const key of Object.keys(styleAttributes)) {\n",
              "    element.style[key] = styleAttributes[key];\n",
              "  }\n",
              "  return element;\n",
              "}\n",
              "\n",
              "// Max number of bytes which will be uploaded at a time.\n",
              "const MAX_PAYLOAD_SIZE = 100 * 1024;\n",
              "\n",
              "function _uploadFiles(inputId, outputId) {\n",
              "  const steps = uploadFilesStep(inputId, outputId);\n",
              "  const outputElement = document.getElementById(outputId);\n",
              "  // Cache steps on the outputElement to make it available for the next call\n",
              "  // to uploadFilesContinue from Python.\n",
              "  outputElement.steps = steps;\n",
              "\n",
              "  return _uploadFilesContinue(outputId);\n",
              "}\n",
              "\n",
              "// This is roughly an async generator (not supported in the browser yet),\n",
              "// where there are multiple asynchronous steps and the Python side is going\n",
              "// to poll for completion of each step.\n",
              "// This uses a Promise to block the python side on completion of each step,\n",
              "// then passes the result of the previous step as the input to the next step.\n",
              "function _uploadFilesContinue(outputId) {\n",
              "  const outputElement = document.getElementById(outputId);\n",
              "  const steps = outputElement.steps;\n",
              "\n",
              "  const next = steps.next(outputElement.lastPromiseValue);\n",
              "  return Promise.resolve(next.value.promise).then((value) => {\n",
              "    // Cache the last promise value to make it available to the next\n",
              "    // step of the generator.\n",
              "    outputElement.lastPromiseValue = value;\n",
              "    return next.value.response;\n",
              "  });\n",
              "}\n",
              "\n",
              "/**\n",
              " * Generator function which is called between each async step of the upload\n",
              " * process.\n",
              " * @param {string} inputId Element ID of the input file picker element.\n",
              " * @param {string} outputId Element ID of the output display.\n",
              " * @return {!Iterable<!Object>} Iterable of next steps.\n",
              " */\n",
              "function* uploadFilesStep(inputId, outputId) {\n",
              "  const inputElement = document.getElementById(inputId);\n",
              "  inputElement.disabled = false;\n",
              "\n",
              "  const outputElement = document.getElementById(outputId);\n",
              "  outputElement.innerHTML = '';\n",
              "\n",
              "  const pickedPromise = new Promise((resolve) => {\n",
              "    inputElement.addEventListener('change', (e) => {\n",
              "      resolve(e.target.files);\n",
              "    });\n",
              "  });\n",
              "\n",
              "  const cancel = document.createElement('button');\n",
              "  inputElement.parentElement.appendChild(cancel);\n",
              "  cancel.textContent = 'Cancel upload';\n",
              "  const cancelPromise = new Promise((resolve) => {\n",
              "    cancel.onclick = () => {\n",
              "      resolve(null);\n",
              "    };\n",
              "  });\n",
              "\n",
              "  // Wait for the user to pick the files.\n",
              "  const files = yield {\n",
              "    promise: Promise.race([pickedPromise, cancelPromise]),\n",
              "    response: {\n",
              "      action: 'starting',\n",
              "    }\n",
              "  };\n",
              "\n",
              "  cancel.remove();\n",
              "\n",
              "  // Disable the input element since further picks are not allowed.\n",
              "  inputElement.disabled = true;\n",
              "\n",
              "  if (!files) {\n",
              "    return {\n",
              "      response: {\n",
              "        action: 'complete',\n",
              "      }\n",
              "    };\n",
              "  }\n",
              "\n",
              "  for (const file of files) {\n",
              "    const li = document.createElement('li');\n",
              "    li.append(span(file.name, {fontWeight: 'bold'}));\n",
              "    li.append(span(\n",
              "        `(${file.type || 'n/a'}) - ${file.size} bytes, ` +\n",
              "        `last modified: ${\n",
              "            file.lastModifiedDate ? file.lastModifiedDate.toLocaleDateString() :\n",
              "                                    'n/a'} - `));\n",
              "    const percent = span('0% done');\n",
              "    li.appendChild(percent);\n",
              "\n",
              "    outputElement.appendChild(li);\n",
              "\n",
              "    const fileDataPromise = new Promise((resolve) => {\n",
              "      const reader = new FileReader();\n",
              "      reader.onload = (e) => {\n",
              "        resolve(e.target.result);\n",
              "      };\n",
              "      reader.readAsArrayBuffer(file);\n",
              "    });\n",
              "    // Wait for the data to be ready.\n",
              "    let fileData = yield {\n",
              "      promise: fileDataPromise,\n",
              "      response: {\n",
              "        action: 'continue',\n",
              "      }\n",
              "    };\n",
              "\n",
              "    // Use a chunked sending to avoid message size limits. See b/62115660.\n",
              "    let position = 0;\n",
              "    do {\n",
              "      const length = Math.min(fileData.byteLength - position, MAX_PAYLOAD_SIZE);\n",
              "      const chunk = new Uint8Array(fileData, position, length);\n",
              "      position += length;\n",
              "\n",
              "      const base64 = btoa(String.fromCharCode.apply(null, chunk));\n",
              "      yield {\n",
              "        response: {\n",
              "          action: 'append',\n",
              "          file: file.name,\n",
              "          data: base64,\n",
              "        },\n",
              "      };\n",
              "\n",
              "      let percentDone = fileData.byteLength === 0 ?\n",
              "          100 :\n",
              "          Math.round((position / fileData.byteLength) * 100);\n",
              "      percent.textContent = `${percentDone}% done`;\n",
              "\n",
              "    } while (position < fileData.byteLength);\n",
              "  }\n",
              "\n",
              "  // All done.\n",
              "  yield {\n",
              "    response: {\n",
              "      action: 'complete',\n",
              "    }\n",
              "  };\n",
              "}\n",
              "\n",
              "scope.google = scope.google || {};\n",
              "scope.google.colab = scope.google.colab || {};\n",
              "scope.google.colab._files = {\n",
              "  _uploadFiles,\n",
              "  _uploadFilesContinue,\n",
              "};\n",
              "})(self);\n",
              "</script> "
            ]
          },
          "metadata": {}
        },
        {
          "output_type": "stream",
          "name": "stdout",
          "text": [
            "Saving zonix_employee_shifts.csv to zonix_employee_shifts (2).csv\n",
            "Saving zonix_equipment_logs.csv to zonix_equipment_logs (2).csv\n",
            "Saving zonix_incompatibility_rules.csv to zonix_incompatibility_rules (2).csv\n",
            "Saving zonix_inventory_snapshots.csv to zonix_inventory_snapshots (2).csv\n",
            "Saving zonix_item_movements.csv to zonix_item_movements (2).csv\n",
            "Saving zonix_order_picking_paths.csv to zonix_order_picking_paths (2).csv\n",
            "Saving zonix_shipment_logs.csv to zonix_shipment_logs (2).csv\n",
            "Saving zonix_storage_zones.csv to zonix_storage_zones (2).csv\n",
            "Saving zonix_warehouse_items.csv to zonix_warehouse_items (2).csv\n",
            "Saving zonix_zone_temperatures.csv to zonix_zone_temperatures (2).csv\n"
          ]
        }
      ]
    },
    {
      "cell_type": "code",
      "source": [
        "\n",
        "# ===========================\n",
        "# STEP 2: Load CSV Files\n",
        "# ===========================\n",
        "warehouse_items = pd.read_csv(\"zonix_warehouse_items.csv\")   # SKU master data\n",
        "storage_zones = pd.read_csv(\"zonix_storage_zones.csv\")       # Zone details\n",
        "inventory_snapshots = pd.read_csv(\"zonix_inventory_snapshots.csv\")  # On-hand qty\n",
        "shipment_logs = pd.read_csv(\"zonix_shipment_logs.csv\")       # Shipment history\n",
        "incompat_rules = pd.read_csv(\"zonix_incompatibility_rules.csv\")     # Incompatibility\n",
        "# Optional extra data\n",
        "employee_shifts = pd.read_csv(\"zonix_employee_shifts.csv\")\n",
        "equipment_logs = pd.read_csv(\"zonix_equipment_logs.csv\")\n",
        "item_movements = pd.read_csv(\"zonix_item_movements.csv\")\n",
        "order_paths = pd.read_csv(\"zonix_order_picking_paths.csv\")\n",
        "zone_temps = pd.read_csv(\"zonix_zone_temperatures.csv\")"
      ],
      "metadata": {
        "id": "Vy_2rXrWeb0d"
      },
      "execution_count": null,
      "outputs": []
    },
    {
      "cell_type": "code",
      "source": [
        "# ===========================\n",
        "# STEP 3: Standardize Column Names\n",
        "# ===========================\n",
        "for df in (warehouse_items, storage_zones, inventory_snapshots, shipment_logs, incompat_rules):\n",
        "    df.columns = [c.lower() for c in df.columns]"
      ],
      "metadata": {
        "id": "N_l5dTXyejOo"
      },
      "execution_count": null,
      "outputs": []
    },
    {
      "cell_type": "code",
      "source": [
        "# ===========================\n",
        "# STEP 4: Clean & Normalize Data\n",
        "# ===========================\n",
        "\n",
        "# Standardize dimension column names (remove spaces and lowercase)\n",
        "warehouse_items.columns = [c.strip().lower().replace(\" \", \"_\") for c in warehouse_items.columns]\n",
        "\n",
        "# Compute volume in cubic meters from cm dimensions\n",
        "warehouse_items['volume_m3_per_unit'] = (\n",
        "    warehouse_items['length_cm'] *\n",
        "    warehouse_items['width_cm'] *\n",
        "    warehouse_items['height_cm']\n",
        ") / 1_000_000  # cm³ → m³\n",
        "\n",
        "# Handle hazardous, fragile, and stackable flags\n",
        "for col in ['hazadeous_t/f', 'fragile_t/f', 'stackable_t/f']:\n",
        "    if col in warehouse_items.columns:\n",
        "        warehouse_items[col] = warehouse_items[col].astype(str).str.strip().str.lower().map({\n",
        "            't': True, 'true': True, '1': True,\n",
        "            'f': False, 'false': False, '0': False\n",
        "        }).fillna(False)\n",
        "\n",
        "# Drop duplicates\n",
        "warehouse_items.drop_duplicates(subset=['item_id'], keep='last', inplace=True)"
      ],
      "metadata": {
        "id": "984DS-z_erKm"
      },
      "execution_count": null,
      "outputs": []
    },
    {
      "cell_type": "code",
      "source": [
        "# ===========================\n",
        "# STEP 5: Aggregate Shipment History\n",
        "# ===========================\n",
        "shipment_logs['timestamp'] = pd.to_datetime(shipment_logs['timestamp'], errors='coerce')\n",
        "\n",
        "recent_days = 90\n",
        "cutoff = pd.Timestamp.now() - pd.Timedelta(days=recent_days)\n",
        "ship_recent = shipment_logs[shipment_logs['timestamp'] >= cutoff]\n",
        "\n",
        "sku_moves = ship_recent.groupby('item_id').agg(\n",
        "    movement_count=('shipment_id', 'nunique'),\n",
        "    total_units_moved=('quantity', 'sum'),\n",
        "    last_movement=('timestamp', 'max')\n",
        ").reset_index()"
      ],
      "metadata": {
        "id": "koA6N8TxerUC"
      },
      "execution_count": null,
      "outputs": []
    },
    {
      "cell_type": "code",
      "source": [
        "# ===========================\n",
        "# STEP 6: Build SKU-Level Dataset\n",
        "# ===========================\n",
        "sku_level = warehouse_items.merge(sku_moves, on='item_id', how='left') # Merging on 'item_id'\n",
        "\n",
        "# Merge with warehouse_items DataFrame to get on-hand quantity per item\n",
        "# inventory_snapshots is aggregated by zone, so using warehouse_items DataFrame instead\n",
        "\n",
        "# Check if the specified columns exist in warehouse_items DataFrame\n",
        "on_hand_col_options = ['current_on_hand_qty'] # Only 'current_on_hand_qty' is in warehouse_items\n",
        "on_hand_col = None\n",
        "for col in on_hand_col_options:\n",
        "    if col in warehouse_items.columns:\n",
        "        on_hand_col = col\n",
        "        break\n",
        "\n",
        "if on_hand_col:\n",
        "    print(f\"Using column '{on_hand_col}' from warehouse_items DataFrame as on-hand quantity.\")\n",
        "    # Directly use the column from warehouse_items as it's already merged\n",
        "    sku_level['on_hand_units'] = sku_level[on_hand_col]\n",
        "else:\n",
        "    print(\"Warning: No suitable on-hand quantity column found in the warehouse_items DataFrame. Assuming 0 on-hand units for all items.\")\n",
        "    sku_level['on_hand_units'] = 0\n",
        "\n",
        "\n",
        "sku_level.fillna({'on_hand_units': 0, 'movement_count': 0, 'total_units_moved': 0}, inplace=True)\n",
        "sku_level['on_hand_units'] = sku_level['on_hand_units'].astype(int)\n",
        "if 'volume_m3_per_unit' in sku_level.columns:\n",
        "    sku_level['total_on_hand_volume_m3'] = sku_level['on_hand_units'] * sku_level['volume_m3_per_unit']\n",
        "\n",
        "display(sku_level.head())"
      ],
      "metadata": {
        "colab": {
          "base_uri": "https://localhost:8080/",
          "height": 278
        },
        "collapsed": true,
        "id": "-YzxmdsbfH4C",
        "outputId": "0670e829-5dd5-4735-8a88-a9be7006e7b0"
      },
      "execution_count": null,
      "outputs": [
        {
          "output_type": "stream",
          "name": "stdout",
          "text": [
            "Using column 'current_on_hand_qty' from warehouse_items DataFrame as on-hand quantity.\n"
          ]
        },
        {
          "output_type": "display_data",
          "data": {
            "text/plain": [
              "   item_id      category  weight_kg  length_cm  width_cm  height_cm  \\\n",
              "0  ITM0000    Home Goods      25.51         28        69         14   \n",
              "1  ITM0001     Beverages      41.41         45        72         53   \n",
              "2  ITM0002  Frozen Foods      16.34         38        95         36   \n",
              "3  ITM0003     Beverages      44.83         69        11         41   \n",
              "4  ITM0004     Beverages      19.77         91        97         30   \n",
              "\n",
              "   stackable  fragile  hazardous temperature_range  current_on_hand_qty  \\\n",
              "0       True    False       True           Ambient                  112   \n",
              "1       True     True       True           Ambient                  445   \n",
              "2      False     True      False            Frozen                  358   \n",
              "3       True    False      False            Frozen                  280   \n",
              "4      False     True       True            Frozen                  116   \n",
              "\n",
              "   volume_m3_per_unit  movement_count  total_units_moved last_movement  \\\n",
              "0            0.027048             0.0                0.0           NaT   \n",
              "1            0.171720             0.0                0.0           NaT   \n",
              "2            0.129960             0.0                0.0           NaT   \n",
              "3            0.031119             0.0                0.0           NaT   \n",
              "4            0.264810             1.0               20.0    2025-07-24   \n",
              "\n",
              "   on_hand_units  total_on_hand_volume_m3  \n",
              "0            112                 3.029376  \n",
              "1            445                76.415400  \n",
              "2            358                46.525680  \n",
              "3            280                 8.713320  \n",
              "4            116                30.717960  "
            ],
            "text/html": [
              "\n",
              "  <div id=\"df-1d0391e1-3094-45a7-a799-65d178017ca0\" class=\"colab-df-container\">\n",
              "    <div>\n",
              "<style scoped>\n",
              "    .dataframe tbody tr th:only-of-type {\n",
              "        vertical-align: middle;\n",
              "    }\n",
              "\n",
              "    .dataframe tbody tr th {\n",
              "        vertical-align: top;\n",
              "    }\n",
              "\n",
              "    .dataframe thead th {\n",
              "        text-align: right;\n",
              "    }\n",
              "</style>\n",
              "<table border=\"1\" class=\"dataframe\">\n",
              "  <thead>\n",
              "    <tr style=\"text-align: right;\">\n",
              "      <th></th>\n",
              "      <th>item_id</th>\n",
              "      <th>category</th>\n",
              "      <th>weight_kg</th>\n",
              "      <th>length_cm</th>\n",
              "      <th>width_cm</th>\n",
              "      <th>height_cm</th>\n",
              "      <th>stackable</th>\n",
              "      <th>fragile</th>\n",
              "      <th>hazardous</th>\n",
              "      <th>temperature_range</th>\n",
              "      <th>current_on_hand_qty</th>\n",
              "      <th>volume_m3_per_unit</th>\n",
              "      <th>movement_count</th>\n",
              "      <th>total_units_moved</th>\n",
              "      <th>last_movement</th>\n",
              "      <th>on_hand_units</th>\n",
              "      <th>total_on_hand_volume_m3</th>\n",
              "    </tr>\n",
              "  </thead>\n",
              "  <tbody>\n",
              "    <tr>\n",
              "      <th>0</th>\n",
              "      <td>ITM0000</td>\n",
              "      <td>Home Goods</td>\n",
              "      <td>25.51</td>\n",
              "      <td>28</td>\n",
              "      <td>69</td>\n",
              "      <td>14</td>\n",
              "      <td>True</td>\n",
              "      <td>False</td>\n",
              "      <td>True</td>\n",
              "      <td>Ambient</td>\n",
              "      <td>112</td>\n",
              "      <td>0.027048</td>\n",
              "      <td>0.0</td>\n",
              "      <td>0.0</td>\n",
              "      <td>NaT</td>\n",
              "      <td>112</td>\n",
              "      <td>3.029376</td>\n",
              "    </tr>\n",
              "    <tr>\n",
              "      <th>1</th>\n",
              "      <td>ITM0001</td>\n",
              "      <td>Beverages</td>\n",
              "      <td>41.41</td>\n",
              "      <td>45</td>\n",
              "      <td>72</td>\n",
              "      <td>53</td>\n",
              "      <td>True</td>\n",
              "      <td>True</td>\n",
              "      <td>True</td>\n",
              "      <td>Ambient</td>\n",
              "      <td>445</td>\n",
              "      <td>0.171720</td>\n",
              "      <td>0.0</td>\n",
              "      <td>0.0</td>\n",
              "      <td>NaT</td>\n",
              "      <td>445</td>\n",
              "      <td>76.415400</td>\n",
              "    </tr>\n",
              "    <tr>\n",
              "      <th>2</th>\n",
              "      <td>ITM0002</td>\n",
              "      <td>Frozen Foods</td>\n",
              "      <td>16.34</td>\n",
              "      <td>38</td>\n",
              "      <td>95</td>\n",
              "      <td>36</td>\n",
              "      <td>False</td>\n",
              "      <td>True</td>\n",
              "      <td>False</td>\n",
              "      <td>Frozen</td>\n",
              "      <td>358</td>\n",
              "      <td>0.129960</td>\n",
              "      <td>0.0</td>\n",
              "      <td>0.0</td>\n",
              "      <td>NaT</td>\n",
              "      <td>358</td>\n",
              "      <td>46.525680</td>\n",
              "    </tr>\n",
              "    <tr>\n",
              "      <th>3</th>\n",
              "      <td>ITM0003</td>\n",
              "      <td>Beverages</td>\n",
              "      <td>44.83</td>\n",
              "      <td>69</td>\n",
              "      <td>11</td>\n",
              "      <td>41</td>\n",
              "      <td>True</td>\n",
              "      <td>False</td>\n",
              "      <td>False</td>\n",
              "      <td>Frozen</td>\n",
              "      <td>280</td>\n",
              "      <td>0.031119</td>\n",
              "      <td>0.0</td>\n",
              "      <td>0.0</td>\n",
              "      <td>NaT</td>\n",
              "      <td>280</td>\n",
              "      <td>8.713320</td>\n",
              "    </tr>\n",
              "    <tr>\n",
              "      <th>4</th>\n",
              "      <td>ITM0004</td>\n",
              "      <td>Beverages</td>\n",
              "      <td>19.77</td>\n",
              "      <td>91</td>\n",
              "      <td>97</td>\n",
              "      <td>30</td>\n",
              "      <td>False</td>\n",
              "      <td>True</td>\n",
              "      <td>True</td>\n",
              "      <td>Frozen</td>\n",
              "      <td>116</td>\n",
              "      <td>0.264810</td>\n",
              "      <td>1.0</td>\n",
              "      <td>20.0</td>\n",
              "      <td>2025-07-24</td>\n",
              "      <td>116</td>\n",
              "      <td>30.717960</td>\n",
              "    </tr>\n",
              "  </tbody>\n",
              "</table>\n",
              "</div>\n",
              "    <div class=\"colab-df-buttons\">\n",
              "\n",
              "  <div class=\"colab-df-container\">\n",
              "    <button class=\"colab-df-convert\" onclick=\"convertToInteractive('df-1d0391e1-3094-45a7-a799-65d178017ca0')\"\n",
              "            title=\"Convert this dataframe to an interactive table.\"\n",
              "            style=\"display:none;\">\n",
              "\n",
              "  <svg xmlns=\"http://www.w3.org/2000/svg\" height=\"24px\" viewBox=\"0 -960 960 960\">\n",
              "    <path d=\"M120-120v-720h720v720H120Zm60-500h600v-160H180v160Zm220 220h160v-160H400v160Zm0 220h160v-160H400v160ZM180-400h160v-160H180v160Zm440 0h160v-160H620v160ZM180-180h160v-160H180v160Zm440 0h160v-160H620v160Z\"/>\n",
              "  </svg>\n",
              "    </button>\n",
              "\n",
              "  <style>\n",
              "    .colab-df-container {\n",
              "      display:flex;\n",
              "      gap: 12px;\n",
              "    }\n",
              "\n",
              "    .colab-df-convert {\n",
              "      background-color: #E8F0FE;\n",
              "      border: none;\n",
              "      border-radius: 50%;\n",
              "      cursor: pointer;\n",
              "      display: none;\n",
              "      fill: #1967D2;\n",
              "      height: 32px;\n",
              "      padding: 0 0 0 0;\n",
              "      width: 32px;\n",
              "    }\n",
              "\n",
              "    .colab-df-convert:hover {\n",
              "      background-color: #E2EBFA;\n",
              "      box-shadow: 0px 1px 2px rgba(60, 64, 67, 0.3), 0px 1px 3px 1px rgba(60, 64, 67, 0.15);\n",
              "      fill: #174EA6;\n",
              "    }\n",
              "\n",
              "    .colab-df-buttons div {\n",
              "      margin-bottom: 4px;\n",
              "    }\n",
              "\n",
              "    [theme=dark] .colab-df-convert {\n",
              "      background-color: #3B4455;\n",
              "      fill: #D2E3FC;\n",
              "    }\n",
              "\n",
              "    [theme=dark] .colab-df-convert:hover {\n",
              "      background-color: #434B5C;\n",
              "      box-shadow: 0px 1px 3px 1px rgba(0, 0, 0, 0.15);\n",
              "      filter: drop-shadow(0px 1px 2px rgba(0, 0, 0, 0.3));\n",
              "      fill: #FFFFFF;\n",
              "    }\n",
              "  </style>\n",
              "\n",
              "    <script>\n",
              "      const buttonEl =\n",
              "        document.querySelector('#df-1d0391e1-3094-45a7-a799-65d178017ca0 button.colab-df-convert');\n",
              "      buttonEl.style.display =\n",
              "        google.colab.kernel.accessAllowed ? 'block' : 'none';\n",
              "\n",
              "      async function convertToInteractive(key) {\n",
              "        const element = document.querySelector('#df-1d0391e1-3094-45a7-a799-65d178017ca0');\n",
              "        const dataTable =\n",
              "          await google.colab.kernel.invokeFunction('convertToInteractive',\n",
              "                                                    [key], {});\n",
              "        if (!dataTable) return;\n",
              "\n",
              "        const docLinkHtml = 'Like what you see? Visit the ' +\n",
              "          '<a target=\"_blank\" href=https://colab.research.google.com/notebooks/data_table.ipynb>data table notebook</a>'\n",
              "          + ' to learn more about interactive tables.';\n",
              "        element.innerHTML = '';\n",
              "        dataTable['output_type'] = 'display_data';\n",
              "        await google.colab.output.renderOutput(dataTable, element);\n",
              "        const docLink = document.createElement('div');\n",
              "        docLink.innerHTML = docLinkHtml;\n",
              "        element.appendChild(docLink);\n",
              "      }\n",
              "    </script>\n",
              "  </div>\n",
              "\n",
              "\n",
              "    <div id=\"df-b5bb4112-403b-44d0-85d7-58f9855d55f9\">\n",
              "      <button class=\"colab-df-quickchart\" onclick=\"quickchart('df-b5bb4112-403b-44d0-85d7-58f9855d55f9')\"\n",
              "                title=\"Suggest charts\"\n",
              "                style=\"display:none;\">\n",
              "\n",
              "<svg xmlns=\"http://www.w3.org/2000/svg\" height=\"24px\"viewBox=\"0 0 24 24\"\n",
              "     width=\"24px\">\n",
              "    <g>\n",
              "        <path d=\"M19 3H5c-1.1 0-2 .9-2 2v14c0 1.1.9 2 2 2h14c1.1 0 2-.9 2-2V5c0-1.1-.9-2-2-2zM9 17H7v-7h2v7zm4 0h-2V7h2v10zm4 0h-2v-4h2v4z\"/>\n",
              "    </g>\n",
              "</svg>\n",
              "      </button>\n",
              "\n",
              "<style>\n",
              "  .colab-df-quickchart {\n",
              "      --bg-color: #E8F0FE;\n",
              "      --fill-color: #1967D2;\n",
              "      --hover-bg-color: #E2EBFA;\n",
              "      --hover-fill-color: #174EA6;\n",
              "      --disabled-fill-color: #AAA;\n",
              "      --disabled-bg-color: #DDD;\n",
              "  }\n",
              "\n",
              "  [theme=dark] .colab-df-quickchart {\n",
              "      --bg-color: #3B4455;\n",
              "      --fill-color: #D2E3FC;\n",
              "      --hover-bg-color: #434B5C;\n",
              "      --hover-fill-color: #FFFFFF;\n",
              "      --disabled-bg-color: #3B4455;\n",
              "      --disabled-fill-color: #666;\n",
              "  }\n",
              "\n",
              "  .colab-df-quickchart {\n",
              "    background-color: var(--bg-color);\n",
              "    border: none;\n",
              "    border-radius: 50%;\n",
              "    cursor: pointer;\n",
              "    display: none;\n",
              "    fill: var(--fill-color);\n",
              "    height: 32px;\n",
              "    padding: 0;\n",
              "    width: 32px;\n",
              "  }\n",
              "\n",
              "  .colab-df-quickchart:hover {\n",
              "    background-color: var(--hover-bg-color);\n",
              "    box-shadow: 0 1px 2px rgba(60, 64, 67, 0.3), 0 1px 3px 1px rgba(60, 64, 67, 0.15);\n",
              "    fill: var(--button-hover-fill-color);\n",
              "  }\n",
              "\n",
              "  .colab-df-quickchart-complete:disabled,\n",
              "  .colab-df-quickchart-complete:disabled:hover {\n",
              "    background-color: var(--disabled-bg-color);\n",
              "    fill: var(--disabled-fill-color);\n",
              "    box-shadow: none;\n",
              "  }\n",
              "\n",
              "  .colab-df-spinner {\n",
              "    border: 2px solid var(--fill-color);\n",
              "    border-color: transparent;\n",
              "    border-bottom-color: var(--fill-color);\n",
              "    animation:\n",
              "      spin 1s steps(1) infinite;\n",
              "  }\n",
              "\n",
              "  @keyframes spin {\n",
              "    0% {\n",
              "      border-color: transparent;\n",
              "      border-bottom-color: var(--fill-color);\n",
              "      border-left-color: var(--fill-color);\n",
              "    }\n",
              "    20% {\n",
              "      border-color: transparent;\n",
              "      border-left-color: var(--fill-color);\n",
              "      border-top-color: var(--fill-color);\n",
              "    }\n",
              "    30% {\n",
              "      border-color: transparent;\n",
              "      border-left-color: var(--fill-color);\n",
              "      border-top-color: var(--fill-color);\n",
              "      border-right-color: var(--fill-color);\n",
              "    }\n",
              "    40% {\n",
              "      border-color: transparent;\n",
              "      border-right-color: var(--fill-color);\n",
              "      border-top-color: var(--fill-color);\n",
              "    }\n",
              "    60% {\n",
              "      border-color: transparent;\n",
              "      border-right-color: var(--fill-color);\n",
              "    }\n",
              "    80% {\n",
              "      border-color: transparent;\n",
              "      border-right-color: var(--fill-color);\n",
              "      border-bottom-color: var(--fill-color);\n",
              "    }\n",
              "    90% {\n",
              "      border-color: transparent;\n",
              "      border-bottom-color: var(--fill-color);\n",
              "    }\n",
              "  }\n",
              "</style>\n",
              "\n",
              "      <script>\n",
              "        async function quickchart(key) {\n",
              "          const quickchartButtonEl =\n",
              "            document.querySelector('#' + key + ' button');\n",
              "          quickchartButtonEl.disabled = true;  // To prevent multiple clicks.\n",
              "          quickchartButtonEl.classList.add('colab-df-spinner');\n",
              "          try {\n",
              "            const charts = await google.colab.kernel.invokeFunction(\n",
              "                'suggestCharts', [key], {});\n",
              "          } catch (error) {\n",
              "            console.error('Error during call to suggestCharts:', error);\n",
              "          }\n",
              "          quickchartButtonEl.classList.remove('colab-df-spinner');\n",
              "          quickchartButtonEl.classList.add('colab-df-quickchart-complete');\n",
              "        }\n",
              "        (() => {\n",
              "          let quickchartButtonEl =\n",
              "            document.querySelector('#df-b5bb4112-403b-44d0-85d7-58f9855d55f9 button');\n",
              "          quickchartButtonEl.style.display =\n",
              "            google.colab.kernel.accessAllowed ? 'block' : 'none';\n",
              "        })();\n",
              "      </script>\n",
              "    </div>\n",
              "\n",
              "    </div>\n",
              "  </div>\n"
            ],
            "application/vnd.google.colaboratory.intrinsic+json": {
              "type": "dataframe",
              "summary": "{\n  \"name\": \"display(sku_level\",\n  \"rows\": 5,\n  \"fields\": [\n    {\n      \"column\": \"item_id\",\n      \"properties\": {\n        \"dtype\": \"string\",\n        \"num_unique_values\": 5,\n        \"samples\": [\n          \"ITM0001\",\n          \"ITM0004\",\n          \"ITM0002\"\n        ],\n        \"semantic_type\": \"\",\n        \"description\": \"\"\n      }\n    },\n    {\n      \"column\": \"category\",\n      \"properties\": {\n        \"dtype\": \"string\",\n        \"num_unique_values\": 3,\n        \"samples\": [\n          \"Home Goods\",\n          \"Beverages\",\n          \"Frozen Foods\"\n        ],\n        \"semantic_type\": \"\",\n        \"description\": \"\"\n      }\n    },\n    {\n      \"column\": \"weight_kg\",\n      \"properties\": {\n        \"dtype\": \"number\",\n        \"std\": 12.851164149601388,\n        \"min\": 16.34,\n        \"max\": 44.83,\n        \"num_unique_values\": 5,\n        \"samples\": [\n          41.41,\n          19.77,\n          16.34\n        ],\n        \"semantic_type\": \"\",\n        \"description\": \"\"\n      }\n    },\n    {\n      \"column\": \"length_cm\",\n      \"properties\": {\n        \"dtype\": \"number\",\n        \"std\": 25,\n        \"min\": 28,\n        \"max\": 91,\n        \"num_unique_values\": 5,\n        \"samples\": [\n          45,\n          91,\n          38\n        ],\n        \"semantic_type\": \"\",\n        \"description\": \"\"\n      }\n    },\n    {\n      \"column\": \"width_cm\",\n      \"properties\": {\n        \"dtype\": \"number\",\n        \"std\": 34,\n        \"min\": 11,\n        \"max\": 97,\n        \"num_unique_values\": 5,\n        \"samples\": [\n          72,\n          97,\n          95\n        ],\n        \"semantic_type\": \"\",\n        \"description\": \"\"\n      }\n    },\n    {\n      \"column\": \"height_cm\",\n      \"properties\": {\n        \"dtype\": \"number\",\n        \"std\": 14,\n        \"min\": 14,\n        \"max\": 53,\n        \"num_unique_values\": 5,\n        \"samples\": [\n          53,\n          30,\n          36\n        ],\n        \"semantic_type\": \"\",\n        \"description\": \"\"\n      }\n    },\n    {\n      \"column\": \"stackable\",\n      \"properties\": {\n        \"dtype\": \"boolean\",\n        \"num_unique_values\": 2,\n        \"samples\": [\n          false,\n          true\n        ],\n        \"semantic_type\": \"\",\n        \"description\": \"\"\n      }\n    },\n    {\n      \"column\": \"fragile\",\n      \"properties\": {\n        \"dtype\": \"boolean\",\n        \"num_unique_values\": 2,\n        \"samples\": [\n          true,\n          false\n        ],\n        \"semantic_type\": \"\",\n        \"description\": \"\"\n      }\n    },\n    {\n      \"column\": \"hazardous\",\n      \"properties\": {\n        \"dtype\": \"boolean\",\n        \"num_unique_values\": 2,\n        \"samples\": [\n          false,\n          true\n        ],\n        \"semantic_type\": \"\",\n        \"description\": \"\"\n      }\n    },\n    {\n      \"column\": \"temperature_range\",\n      \"properties\": {\n        \"dtype\": \"category\",\n        \"num_unique_values\": 2,\n        \"samples\": [\n          \"Frozen\",\n          \"Ambient\"\n        ],\n        \"semantic_type\": \"\",\n        \"description\": \"\"\n      }\n    },\n    {\n      \"column\": \"current_on_hand_qty\",\n      \"properties\": {\n        \"dtype\": \"number\",\n        \"std\": 147,\n        \"min\": 112,\n        \"max\": 445,\n        \"num_unique_values\": 5,\n        \"samples\": [\n          445,\n          116\n        ],\n        \"semantic_type\": \"\",\n        \"description\": \"\"\n      }\n    },\n    {\n      \"column\": \"volume_m3_per_unit\",\n      \"properties\": {\n        \"dtype\": \"number\",\n        \"std\": 0.10020280564335511,\n        \"min\": 0.027048,\n        \"max\": 0.26481,\n        \"num_unique_values\": 5,\n        \"samples\": [\n          0.17172,\n          0.26481\n        ],\n        \"semantic_type\": \"\",\n        \"description\": \"\"\n      }\n    },\n    {\n      \"column\": \"movement_count\",\n      \"properties\": {\n        \"dtype\": \"number\",\n        \"std\": 0.447213595499958,\n        \"min\": 0.0,\n        \"max\": 1.0,\n        \"num_unique_values\": 2,\n        \"samples\": [\n          1.0,\n          0.0\n        ],\n        \"semantic_type\": \"\",\n        \"description\": \"\"\n      }\n    },\n    {\n      \"column\": \"total_units_moved\",\n      \"properties\": {\n        \"dtype\": \"number\",\n        \"std\": 8.94427190999916,\n        \"min\": 0.0,\n        \"max\": 20.0,\n        \"num_unique_values\": 2,\n        \"samples\": [\n          20.0,\n          0.0\n        ],\n        \"semantic_type\": \"\",\n        \"description\": \"\"\n      }\n    },\n    {\n      \"column\": \"last_movement\",\n      \"properties\": {\n        \"dtype\": \"date\",\n        \"min\": \"2025-07-24 00:00:00\",\n        \"max\": \"2025-07-24 00:00:00\",\n        \"num_unique_values\": 1,\n        \"samples\": [\n          \"2025-07-24 00:00:00\"\n        ],\n        \"semantic_type\": \"\",\n        \"description\": \"\"\n      }\n    },\n    {\n      \"column\": \"on_hand_units\",\n      \"properties\": {\n        \"dtype\": \"number\",\n        \"std\": 147,\n        \"min\": 112,\n        \"max\": 445,\n        \"num_unique_values\": 5,\n        \"samples\": [\n          445\n        ],\n        \"semantic_type\": \"\",\n        \"description\": \"\"\n      }\n    },\n    {\n      \"column\": \"total_on_hand_volume_m3\",\n      \"properties\": {\n        \"dtype\": \"number\",\n        \"std\": 29.83746610049619,\n        \"min\": 3.029376,\n        \"max\": 76.4154,\n        \"num_unique_values\": 5,\n        \"samples\": [\n          76.4154\n        ],\n        \"semantic_type\": \"\",\n        \"description\": \"\"\n      }\n    }\n  ]\n}"
            }
          },
          "metadata": {}
        }
      ]
    },
    {
      "cell_type": "code",
      "source": [
        "# ===========================\n",
        "# STEP 7: Save Cleaned Data\n",
        "# ===========================\n",
        "sku_level.to_csv(\"sku_level_cleaned.csv\", index=False)\n",
        "storage_zones.to_csv(\"zone_level_cleaned.csv\", index=False)\n",
        "incompat_rules.to_csv(\"incompatibility_rules_cleaned.csv\", index=False)\n",
        "\n",
        "print(\"✅ Cleaned files saved: sku_level_cleaned.csv, zone_level_cleaned.csv, incompatibility_rules_cleaned.csv\")\n"
      ],
      "metadata": {
        "colab": {
          "base_uri": "https://localhost:8080/"
        },
        "id": "dP-R6gbtffDo",
        "outputId": "0e9aa694-c7f8-4471-f7a3-95b4258ca06d"
      },
      "execution_count": null,
      "outputs": [
        {
          "output_type": "stream",
          "name": "stdout",
          "text": [
            "✅ Cleaned files saved: sku_level_cleaned.csv, zone_level_cleaned.csv, incompatibility_rules_cleaned.csv\n"
          ]
        }
      ]
    },
    {
      "cell_type": "code",
      "source": [
        "# ===========================\n",
        "# PHASE 3: LP Model for Storage Allocation\n",
        "# ===========================\n",
        "\n",
        "import pulp\n",
        "\n",
        "# Step 1: Pre-filter feasible SKU–zone pairs\n",
        "possible_pairs = []\n",
        "for _, sku_row in sku_level.iterrows():\n",
        "    for _, zone_row in zone_df.iterrows():\n",
        "        # Check volume constraint\n",
        "        if sku_row['volume_m3_per_unit'] <= zone_row['max_volume_m3']:\n",
        "            # Check temperature constraint\n",
        "            if ('temperature_range' not in sku_row) or \\\n",
        "               (zone_row.get('temperature_class') is None) or \\\n",
        "               (sku_row['temperature_range'] == zone_row['temperature_class']):\n",
        "                possible_pairs.append((sku_row['item_id'], zone_row['zone_id']))\n",
        "\n",
        "print(f\"Total possible pairs: {len(possible_pairs)} (down from {len(sku_level) * len(zone_df)})\")"
      ],
      "metadata": {
        "colab": {
          "base_uri": "https://localhost:8080/"
        },
        "id": "FuOH9P0ajDW9",
        "outputId": "f0e3e7bf-7227-4235-eb58-512450f97742"
      },
      "execution_count": null,
      "outputs": [
        {
          "output_type": "stream",
          "name": "stdout",
          "text": [
            "Total possible pairs: 1649 (down from 5000)\n"
          ]
        }
      ]
    },
    {
      "cell_type": "code",
      "source": [
        "# ----------------------------------------------------------\n",
        "# STEP 2: Create decision variables only for feasible pairs\n",
        "# ----------------------------------------------------------\n",
        "x = pulp.LpVariable.dicts(\"alloc\", possible_pairs, cat='Binary')"
      ],
      "metadata": {
        "id": "oaNZkDDZjXns"
      },
      "execution_count": null,
      "outputs": []
    },
    {
      "cell_type": "code",
      "source": [
        "# -------------------------------------------------------------------\n",
        "# STEP 3: Define the objective (example: minimize weighted distance)\n",
        "# -------------------------------------------------------------------\n",
        "\n",
        "model = pulp.LpProblem(\"Warehouse_Allocation\", pulp.LpMinimize)\n",
        "model += pulp.lpSum([\n",
        "    movement_priority.get(sku, 1) * zone_distance.get(zone, 1) * x[(sku, zone)]\n",
        "    for sku, zone in possible_pairs\n",
        "])\n"
      ],
      "metadata": {
        "id": "Sc-fv_sEjX8W"
      },
      "execution_count": null,
      "outputs": []
    },
    {
      "cell_type": "code",
      "source": [
        "# ---------------------------------------\n",
        "# STEP 4: Capacity Constraints Per Zone\n",
        "# ---------------------------------------\n",
        "for _, zone_row in zone_df.iterrows():\n",
        "    model += pulp.lpSum([\n",
        "        sku_level.loc[sku_level['item_id'] == sku, 'volume_m3_per_unit'].values[0] * x[(sku, zone_row['zone_id'])]\n",
        "        for sku, z in possible_pairs if z == zone_row['zone_id']\n",
        "    ]) <= zone_row['max_volume_m3']"
      ],
      "metadata": {
        "id": "RUjz8WkejYJq"
      },
      "execution_count": null,
      "outputs": []
    },
    {
      "cell_type": "code",
      "source": [
        "# -----------------------------------------------\n",
        "# STEP 5: Each SKU assigned to exactly one zone\n",
        "# -----------------------------------------------\n",
        "for _, sku_row in sku_level.iterrows():\n",
        "    model += pulp.lpSum([\n",
        "        x[(sku_row['item_id'], zone)]\n",
        "        for sku, zone in possible_pairs if sku == sku_row['item_id']\n",
        "    ]) == 1"
      ],
      "metadata": {
        "id": "21wYWx0jjYNL"
      },
      "execution_count": null,
      "outputs": []
    },
    {
      "cell_type": "code",
      "source": [
        "# --------------------------------------------------\n",
        "# STEP 6: Solve with time limit (e.g., 60 seconds)\n",
        "# --------------------------------------------------\n",
        "\n",
        "print(\"Solving model (time limit = 60s)...\")\n",
        "model.solve(pulp.PULP_CBC_CMD(msg=1, timeLimit=60))\n",
        "\n",
        "print(f\"Status: {pulp.LpStatus[model.status]}\")\n",
        "print(f\"Total cost: {pulp.value(model.objective)}\")\n"
      ],
      "metadata": {
        "id": "OH7rhVLBjYQO",
        "colab": {
          "base_uri": "https://localhost:8080/"
        },
        "outputId": "86854d14-0a3e-4938-e395-7a338909aabe"
      },
      "execution_count": null,
      "outputs": [
        {
          "output_type": "stream",
          "name": "stdout",
          "text": [
            "Solving model (time limit = 60s)...\n",
            "Status: Optimal\n",
            "Total cost: 14366.0\n"
          ]
        }
      ]
    },
    {
      "cell_type": "code",
      "source": [
        "# ---------------------------\n",
        "# STEP 7: Extract The Results\n",
        "# ---------------------------\n",
        "allocations = []\n",
        "for (sku, zone) in possible_pairs:\n",
        "    if pulp.value(x[(sku, zone)]) == 1:\n",
        "        allocations.append({\n",
        "            \"sku\": sku,\n",
        "            \"zone_id\": zone,\n",
        "            \"volume_m3\": sku_level.loc[sku_level['item_id'] == sku, 'volume_m3_per_unit'].values[0],\n",
        "            \"priority\": movement_priority.get(sku, 1)\n",
        "        })\n",
        "\n",
        "alloc_df = pd.DataFrame(allocations)\n",
        "\n",
        "# Merge with zone_df to get the 'near_loading_dock' information\n",
        "alloc_df = alloc_df.merge(zone_df[['zone_id', 'near_loading_dock']], on='zone_id', how='left')\n",
        "\n",
        "# Add a 'distance' column using the zone_distance dictionary\n",
        "alloc_df['distance'] = alloc_df['zone_id'].map(zone_distance)\n",
        "\n",
        "\n",
        "alloc_df.to_csv(\"optimal_allocations.csv\", index=False)\n",
        "print(\"Optimal allocations saved to 'optimal_allocations.csv'\")"
      ],
      "metadata": {
        "id": "9y0FyEyBjYS9",
        "colab": {
          "base_uri": "https://localhost:8080/"
        },
        "outputId": "49720baf-00c9-4c31-f1c8-2f494c861359"
      },
      "execution_count": null,
      "outputs": [
        {
          "output_type": "stream",
          "name": "stdout",
          "text": [
            "Optimal allocations saved to 'optimal_allocations.csv'\n"
          ]
        }
      ]
    },
    {
      "cell_type": "code",
      "source": [
        "from google.colab import files\n",
        "files.download(\"optimal_allocations.csv\")"
      ],
      "metadata": {
        "colab": {
          "base_uri": "https://localhost:8080/",
          "height": 17
        },
        "id": "KOzLZbN5AB-s",
        "outputId": "b740aac2-f938-4b54-9343-b74c9983e4ad"
      },
      "execution_count": null,
      "outputs": [
        {
          "output_type": "display_data",
          "data": {
            "text/plain": [
              "<IPython.core.display.Javascript object>"
            ],
            "application/javascript": [
              "\n",
              "    async function download(id, filename, size) {\n",
              "      if (!google.colab.kernel.accessAllowed) {\n",
              "        return;\n",
              "      }\n",
              "      const div = document.createElement('div');\n",
              "      const label = document.createElement('label');\n",
              "      label.textContent = `Downloading \"${filename}\": `;\n",
              "      div.appendChild(label);\n",
              "      const progress = document.createElement('progress');\n",
              "      progress.max = size;\n",
              "      div.appendChild(progress);\n",
              "      document.body.appendChild(div);\n",
              "\n",
              "      const buffers = [];\n",
              "      let downloaded = 0;\n",
              "\n",
              "      const channel = await google.colab.kernel.comms.open(id);\n",
              "      // Send a message to notify the kernel that we're ready.\n",
              "      channel.send({})\n",
              "\n",
              "      for await (const message of channel.messages) {\n",
              "        // Send a message to notify the kernel that we're ready.\n",
              "        channel.send({})\n",
              "        if (message.buffers) {\n",
              "          for (const buffer of message.buffers) {\n",
              "            buffers.push(buffer);\n",
              "            downloaded += buffer.byteLength;\n",
              "            progress.value = downloaded;\n",
              "          }\n",
              "        }\n",
              "      }\n",
              "      const blob = new Blob(buffers, {type: 'application/binary'});\n",
              "      const a = document.createElement('a');\n",
              "      a.href = window.URL.createObjectURL(blob);\n",
              "      a.download = filename;\n",
              "      div.appendChild(a);\n",
              "      a.click();\n",
              "      div.remove();\n",
              "    }\n",
              "  "
            ]
          },
          "metadata": {}
        },
        {
          "output_type": "display_data",
          "data": {
            "text/plain": [
              "<IPython.core.display.Javascript object>"
            ],
            "application/javascript": [
              "download(\"download_9ccf84b6-2af0-4cd2-851a-5cfd47c3da5b\", \"optimal_allocations.csv\", 13999)"
            ]
          },
          "metadata": {}
        }
      ]
    },
    {
      "cell_type": "code",
      "metadata": {
        "colab": {
          "base_uri": "https://localhost:8080/"
        },
        "id": "6f5b1fc8",
        "outputId": "c5a1c3aa-3ed5-4592-c461-3efc4cf8712d"
      },
      "source": [
        "# Install the pulp library\n",
        "%pip install pulp"
      ],
      "execution_count": null,
      "outputs": [
        {
          "output_type": "stream",
          "name": "stdout",
          "text": [
            "Collecting pulp\n",
            "  Downloading pulp-3.2.2-py3-none-any.whl.metadata (6.9 kB)\n",
            "Downloading pulp-3.2.2-py3-none-any.whl (16.4 MB)\n",
            "\u001b[2K   \u001b[90m━━━━━━━━━━━━━━━━━━━━━━━━━━━━━━━━━━━━━━━━\u001b[0m \u001b[32m16.4/16.4 MB\u001b[0m \u001b[31m86.2 MB/s\u001b[0m eta \u001b[36m0:00:00\u001b[0m\n",
            "\u001b[?25hInstalling collected packages: pulp\n",
            "Successfully installed pulp-3.2.2\n"
          ]
        }
      ]
    },
    {
      "cell_type": "code",
      "metadata": {
        "colab": {
          "base_uri": "https://localhost:8080/"
        },
        "id": "9ae46fd7",
        "outputId": "d8763caf-f6e7-41ca-9855-90ed92514e10"
      },
      "source": [
        "# -------------------------------------------------------------------\n",
        "# Define movement priority and zone distance dictionaries\n",
        "# (These are placeholder values and should be replaced with actual data if available)\n",
        "# -------------------------------------------------------------------\n",
        "\n",
        "# Example: Define SKU priority based on total units moved (higher movement = higher priority)\n",
        "# Using total_units_moved directly as priority for now\n",
        "movement_priority = sku_level.set_index('item_id')['total_units_moved'].to_dict()\n",
        "\n",
        "# Example: Define zone distance based on proximity to loading dock\n",
        "# Assuming 'near_loading_dock' = True means lower distance (e.g., 1) and False means higher distance (e.g., 10)\n",
        "zone_distance = zone_df.set_index('zone_id')['near_loading_dock'].apply(lambda x: 1 if x else 10).to_dict()\n",
        "\n",
        "print(\"Movement Priority Dictionary created.\")\n",
        "print(\"Zone Distance Dictionary created.\")"
      ],
      "execution_count": null,
      "outputs": [
        {
          "output_type": "stream",
          "name": "stdout",
          "text": [
            "Movement Priority Dictionary created.\n",
            "Zone Distance Dictionary created.\n"
          ]
        }
      ]
    },
    {
      "cell_type": "code",
      "source": [
        "# ---------------------------\n",
        "# Model Visualisations\n",
        "# ---------------------------\n",
        "\n",
        "\n",
        "import matplotlib.pyplot as plt\n",
        "import seaborn as sns\n",
        "import pandas as pd\n",
        "\n",
        "# Load allocations (post-optimization)\n",
        "alloc_df = pd.read_csv(\"optimal_allocations.csv\")\n",
        "\n",
        "# Load supporting data\n",
        "sku_df = pd.read_csv(\"zonix_warehouse_items.csv\")\n",
        "zone_df = pd.read_csv(\"zonix_storage_zones.csv\")\n",
        "zone_temp_df = pd.read_csv(\"zonix_zone_temperatures.csv\")\n",
        "movements_df = pd.read_csv(\"zonix_item_movements.csv\")\n",
        "\n",
        "# Merge needed data\n",
        "alloc_df = alloc_df.merge(sku_df[['item_id', 'hazardous', 'category']], left_on=\"sku\", right_on=\"item_id\", how=\"left\")\n",
        "alloc_df = alloc_df.merge(zone_df, on=\"zone_id\", how=\"left\")"
      ],
      "metadata": {
        "id": "pJd0BGh_AMqj"
      },
      "execution_count": null,
      "outputs": []
    },
    {
      "cell_type": "code",
      "source": [
        "# ----------------------------\n",
        "# 1. Zone Utilization %\n",
        "# ----------------------------\n",
        "utilization = alloc_df.groupby('zone_id').agg({\n",
        "    'volume_m3': 'sum',\n",
        "    'max_volume_m3': 'first'\n",
        "}).reset_index()\n",
        "utilization['utilization_pct'] = (utilization['volume_m3'] / utilization['max_volume_m3']) * 100\n",
        "\n",
        "plt.figure(figsize=(8,5))\n",
        "sns.barplot(data=utilization, x='zone_id', y='utilization_pct', palette='viridis')\n",
        "plt.title(\"Zone Utilization After Optimization\")\n",
        "plt.ylabel(\"Utilization (%)\")\n",
        "plt.xticks(rotation=45)\n",
        "plt.tight_layout()\n",
        "plt.show()"
      ],
      "metadata": {
        "colab": {
          "base_uri": "https://localhost:8080/",
          "height": 614
        },
        "id": "mkSqObwHAu3y",
        "outputId": "743e4e44-029a-423f-ba2b-a7554ba460e2"
      },
      "execution_count": null,
      "outputs": [
        {
          "output_type": "stream",
          "name": "stderr",
          "text": [
            "/tmp/ipython-input-3262729989.py:11: FutureWarning: \n",
            "\n",
            "Passing `palette` without assigning `hue` is deprecated and will be removed in v0.14.0. Assign the `x` variable to `hue` and set `legend=False` for the same effect.\n",
            "\n",
            "  sns.barplot(data=utilization, x='zone_id', y='utilization_pct', palette='viridis')\n"
          ]
        },
        {
          "output_type": "display_data",
          "data": {
            "text/plain": [
              "<Figure size 800x500 with 1 Axes>"
            ],
            "image/png": "[encoded data removed]"
          },
          "metadata": {}
        }
      ]
    },
    {
      "cell_type": "code",
      "source": [
        "# ----------------------------\n",
        "# 2. Distance Reduction\n",
        "# ----------------------------\n",
        "\n",
        "# Calculate average 'before optimization' distance using the zone_distance dictionary\n",
        "# Map the zone_id in movements_df to the distance in zone_distance\n",
        "movements_df['zone_distance'] = movements_df['zone_id'].map(zone_distance)\n",
        "avg_before = movements_df['zone_distance'].mean()\n",
        "\n",
        "# Calculate average 'after optimization' distance using the 'distance' column in alloc_df\n",
        "avg_after = alloc_df['distance'].mean()\n",
        "\n",
        "plt.bar([\"Before Optimization\", \"After Optimization\"], [avg_before, avg_after], color=['red', 'green'])\n",
        "plt.ylabel(\"Avg Distance (proxy)\") # Changed ylabel to reflect proxy distance\n",
        "plt.title(\"Movement Distance Reduction (Proxy)\") # Changed title to reflect proxy distance\n",
        "plt.show()"
      ],
      "metadata": {
        "colab": {
          "base_uri": "https://localhost:8080/",
          "height": 452
        },
        "id": "eG1pvt4RA9GS",
        "outputId": "2efec30f-1939-44b3-f92e-6092c089f11e"
      },
      "execution_count": null,
      "outputs": [
        {
          "output_type": "display_data",
          "data": {
            "text/plain": [
              "<Figure size 640x480 with 1 Axes>"
            ],
            "image/png": "[encoded data removed]"
          },
          "metadata": {}
        }
      ]
    },
    {
      "cell_type": "code",
      "source": [
        "# ----------------------------\n",
        "# 3. Hazardous Material Separation\n",
        "# ----------------------------\n",
        "hazardous_df = alloc_df[alloc_df['hazardous'] == True]\n",
        "sns.countplot(data=hazardous_df, x='zone_id', palette='Reds')\n",
        "plt.title(\"Hazardous Material Distribution\")\n",
        "plt.xticks(rotation=45)\n",
        "plt.tight_layout()\n",
        "plt.show()"
      ],
      "metadata": {
        "colab": {
          "base_uri": "https://localhost:8080/",
          "height": 594
        },
        "id": "UTAq-b_qBQPv",
        "outputId": "e40373ef-4065-4988-8cd6-7249a34c8334"
      },
      "execution_count": null,
      "outputs": [
        {
          "output_type": "stream",
          "name": "stderr",
          "text": [
            "/tmp/ipython-input-1798850559.py:5: FutureWarning: \n",
            "\n",
            "Passing `palette` without assigning `hue` is deprecated and will be removed in v0.14.0. Assign the `x` variable to `hue` and set `legend=False` for the same effect.\n",
            "\n",
            "  sns.countplot(data=hazardous_df, x='zone_id', palette='Reds')\n"
          ]
        },
        {
          "output_type": "display_data",
          "data": {
            "text/plain": [
              "<Figure size 640x480 with 1 Axes>"
            ],
            "image/png": "[encoded data removed]"
          },
          "metadata": {}
        }
      ]
    },
    {
      "cell_type": "code",
      "source": [
        "# ----------------------------\n",
        "# 4. Priority SKUs Near Exit\n",
        "# ----------------------------\n",
        "priority_df = alloc_df[alloc_df['priority'] == 1]\n",
        "sns.histplot(priority_df['distance'], bins=10, color='orange')\n",
        "plt.title(\"Priority SKU Distance (Proxy)\") # Changed title to reflect proxy distance\n",
        "plt.xlabel(\"Distance (proxy)\") # Changed xlabel to reflect proxy distance\n",
        "plt.tight_layout()\n",
        "plt.show()"
      ],
      "metadata": {
        "colab": {
          "base_uri": "https://localhost:8080/",
          "height": 487
        },
        "id": "F3W71FwEBcDs",
        "outputId": "e89a3741-d909-4065-ffd3-643fd94f8af5"
      },
      "execution_count": null,
      "outputs": [
        {
          "output_type": "display_data",
          "data": {
            "text/plain": [
              "<Figure size 640x480 with 1 Axes>"
            ],
            "image/png": "[encoded data removed]"
          },
          "metadata": {}
        }
      ]
    },
    {
      "cell_type": "code",
      "source": [
        "# ----------------------------\n",
        "# 5. Zone Temperature Compatibility\n",
        "# ----------------------------\n",
        "# Merge allocation data with zone temperature data\n",
        "alloc_temp = alloc_df.merge(zone_temp_df, on=\"zone_id\", how=\"left\")\n",
        "\n",
        "# The zone_temp_df contains 'temperature_class' (categorical), not 'temperature_c' (numerical).\n",
        "# Therefore, a boxplot of numerical temperature is not possible with the current data.\n",
        "# If you have a dataset with numerical temperature readings for each zone, you could use that for this plot.\n",
        "\n",
        "# sns.boxplot(data=alloc_temp, x=\"zone_id\", y=\"temperature_c\", hue=\"hazardous\", palette=\"coolwarm\")\n",
        "# plt.title(\"Temperature Distribution by Zone\")\n",
        "# plt.ylabel(\"Zone Temperature (°C)\")\n",
        "# plt.xlabel(\"Zone ID\")\n",
        "# plt.xticks(rotation=45)\n",
        "# plt.tight_layout()\n",
        "# plt.show()\n",
        "\n",
        "print(\"Note: Boxplot for temperature distribution by zone cannot be generated as numerical temperature data ('temperature_c') is not available. The 'zone_temp_df' contains categorical 'temperature_class' data.\")"
      ],
      "metadata": {
        "colab": {
          "base_uri": "https://localhost:8080/"
        },
        "id": "A9cQkxWTBvMF",
        "outputId": "60881860-00c7-45f7-c089-e8e396c7a652"
      },
      "execution_count": null,
      "outputs": [
        {
          "output_type": "stream",
          "name": "stdout",
          "text": [
            "Note: Boxplot for temperature distribution by zone cannot be generated as numerical temperature data ('temperature_c') is not available. The 'zone_temp_df' contains categorical 'temperature_class' data.\n"
          ]
        }
      ]
    },
    {
      "cell_type": "code",
      "source": [
        "# ----------------------------\n",
        "# 6. Warehouse Zone Utilization Map\n",
        "# ----------------------------\n",
        "\n",
        "# The zone_df DataFrame does not contain 'x_coord' and 'y_coord' columns.\n",
        "# Therefore, a scatter plot of the warehouse layout based on coordinates is not possible with the current data.\n",
        "# If you have a dataset with the spatial coordinates of each zone, you could use that data for this visualization.\n",
        "\n",
        "# sns.scatterplot(\n",
        "#     data=zone_df,\n",
        "#     x=\"x_coord\", y=\"y_coord\",\n",
        "#     size=\"zone_volume_m3\",\n",
        "#     hue=utilization['utilization_pct'],\n",
        "#     palette=\"RdYlGn\", sizes=(100, 1000)\n",
        "# )\n",
        "# plt.title(\"Warehouse Zone Utilization Map\")\n",
        "# plt.xlabel(\"X Coordinate (m)\")\n",
        "# plt.ylabel(\"Y Coordinate (m)\")\n",
        "# plt.tight_layout()\n",
        "# plt.show()\n",
        "\n",
        "print(\"Note: Warehouse zone utilization map cannot be generated as spatial coordinate data ('x_coord', 'y_coord') is not available in the zone_df DataFrame.\")"
      ],
      "metadata": {
        "colab": {
          "base_uri": "https://localhost:8080/"
        },
        "id": "N-9ITc4UB9_U",
        "outputId": "d00a3861-3459-4cd6-f0a3-3950886d671c"
      },
      "execution_count": null,
      "outputs": [
        {
          "output_type": "stream",
          "name": "stdout",
          "text": [
            "Note: Warehouse zone utilization map cannot be generated as spatial coordinate data ('x_coord', 'y_coord') is not available in the zone_df DataFrame.\n"
          ]
        }
      ]
    },
    {
      "cell_type": "code",
      "source": [
        "# ----------------------------\n",
        "# 7. Movement Cost Reduction\n",
        "# ----------------------------\n",
        "plt.bar([\"Before Optimization\", \"After Optimization\"], [avg_before, avg_after], color=['red', 'green'])\n",
        "plt.ylabel(\"Average Distance to Exit (m)\")\n",
        "plt.title(\"Movement Cost Reduction\")\n",
        "plt.show()"
      ],
      "metadata": {
        "colab": {
          "base_uri": "https://localhost:8080/",
          "height": 452
        },
        "id": "N5gENfzwCLZW",
        "outputId": "c739057a-78f4-451e-c165-414a5dbada21"
      },
      "execution_count": null,
      "outputs": [
        {
          "output_type": "display_data",
          "data": {
            "text/plain": [
              "<Figure size 640x480 with 1 Axes>"
            ],
            "image/png": "[encoded data removed]"
          },
          "metadata": {}
        }
      ]
    },
    {
      "cell_type": "code",
      "source": [
        "# ----------------------------\n",
        "# 8. SKU Category Distribution by Zone\n",
        "# ----------------------------\n",
        "cat_zone = alloc_df.groupby(['zone_id', 'category']).size().reset_index(name='count')\n",
        "sns.barplot(data=cat_zone, x=\"zone_id\", y=\"count\", hue=\"category\")\n",
        "plt.title(\"SKU Category Distribution by Zone\")\n",
        "plt.xticks(rotation=45)\n",
        "plt.tight_layout()\n",
        "plt.show()"
      ],
      "metadata": {
        "colab": {
          "base_uri": "https://localhost:8080/",
          "height": 487
        },
        "id": "DKSy-D8cCRGZ",
        "outputId": "fb170931-6ae0-4630-cec1-eb8ffb4b9cd3"
      },
      "execution_count": null,
      "outputs": [
        {
          "output_type": "display_data",
          "data": {
            "text/plain": [
              "<Figure size 640x480 with 1 Axes>"
            ],
            "image/png": "[encoded data removed]"
          },
          "metadata": {}
        }
      ]
    },
    {
      "cell_type": "code",
      "source": [
        "# ----------------------------\n",
        "# 9. Unused Space by Zone\n",
        "# ----------------------------\n",
        "utilization['free_space_m3'] = utilization['max_volume_m3'] - utilization['volume_m3']\n",
        "sns.barplot(data=utilization, x='zone_id', y='free_space_m3', palette='Blues')\n",
        "plt.title(\"Unused Space by Zone After Optimization\")\n",
        "plt.ylabel(\"Free Space (m³)\")\n",
        "plt.xticks(rotation=45)\n",
        "plt.tight_layout()\n",
        "plt.show()"
      ],
      "metadata": {
        "colab": {
          "base_uri": "https://localhost:8080/",
          "height": 594
        },
        "id": "CHUx4jt-CdRf",
        "outputId": "a5a31d75-0c21-4224-837e-0adba42eab05"
      },
      "execution_count": null,
      "outputs": [
        {
          "output_type": "stream",
          "name": "stderr",
          "text": [
            "/tmp/ipython-input-3973427333.py:5: FutureWarning: \n",
            "\n",
            "Passing `palette` without assigning `hue` is deprecated and will be removed in v0.14.0. Assign the `x` variable to `hue` and set `legend=False` for the same effect.\n",
            "\n",
            "  sns.barplot(data=utilization, x='zone_id', y='free_space_m3', palette='Blues')\n"
          ]
        },
        {
          "output_type": "display_data",
          "data": {
            "text/plain": [
              "<Figure size 640x480 with 1 Axes>"
            ],
            "image/png": "[encoded data removed]"
          },
          "metadata": {}
        }
      ]
    }
  ],
  "metadata": {
    "colab": {
      "provenance": []
    },
    "kernelspec": {
      "display_name": "Python 3",
      "name": "python3"
    },
    "language_info": {
      "name": "python"
    }
  },
  "nbformat": 4,
  "nbformat_minor": 0
}